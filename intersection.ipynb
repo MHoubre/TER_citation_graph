{
 "cells": [
  {
   "attachments": {},
   "cell_type": "markdown",
   "metadata": {},
   "source": [
    "### Intersection des datasets unarXive et arXiv-Abstract\n",
    "\n",
    "Ce notebook sert à augmenter le datatset arXiv-Abstract en y ajoutant les contextes de citations inclut dans unarXive"
   ]
  },
  {
   "cell_type": "code",
   "execution_count": 1,
   "metadata": {},
   "outputs": [],
   "source": [
    "import pandas as pd\n",
    "import jsonlines"
   ]
  },
  {
   "cell_type": "code",
   "execution_count": 74,
   "metadata": {},
   "outputs": [],
   "source": [
    "# Charger les données des fichier .CSV (découpage du dataset unarXive)\n",
    "df = pd.read_csv(r\"TER_genearation_categorie\\unarXive-2020\\contexts\\extracted_context_splitted_refined\\extracted-context-20-refined.csv\", sep=\",\",engine='c',low_memory='false',header=0)"
   ]
  },
  {
   "cell_type": "code",
   "execution_count": 3,
   "metadata": {},
   "outputs": [],
   "source": [
    "# Charger les données du dataset \"arxiv-abstracts-2021\"\n",
    "with jsonlines.open(r\"TER_genearation_categorie\\unarXive-2020\\contexts\\arxiv-abstracts.jsonl\") as f:\n",
    "    dataset = [obj for obj in f]\n"
   ]
  },
  {
   "cell_type": "code",
   "execution_count": 10,
   "metadata": {},
   "outputs": [],
   "source": [
    "# Extraire les arXiv IDs du dataset\n",
    "arxiv_ids = set(obj['id'] for obj in dataset)"
   ]
  },
  {
   "cell_type": "code",
   "execution_count": 19,
   "metadata": {},
   "outputs": [
    {
     "name": "stdout",
     "output_type": "stream",
     "text": [
      "['<cited_paper_mag_id>', '<adjacent_citations_mag_ids>', '<citing_paper_mag_id>', '<cited_paper_arxiv_id>', '<adjacent_citations_arxiv_ids>', '<citing_paper_arxiv_id>', '<citation_context>']\n"
     ]
    }
   ],
   "source": [
    "column_headers = list(df.columns.values)\n",
    "print(column_headers)"
   ]
  },
  {
   "cell_type": "code",
   "execution_count": 71,
   "metadata": {},
   "outputs": [],
   "source": [
    "# Sélectionner les lignes du fichier CSV avec des arXiv IDs présents dans le dataset\n",
    "df_filtered = df[df['<cited_paper_arxiv_id>'].isin(arxiv_ids)]"
   ]
  },
  {
   "cell_type": "code",
   "execution_count": 72,
   "metadata": {},
   "outputs": [],
   "source": [
    "# Écrire le résultat dans un nouveau fichier CSV\n",
    "df_filtered.to_csv(\"Match_in_unarXive_20.csv\", index=False)"
   ]
  },
  {
   "cell_type": "code",
   "execution_count": null,
   "metadata": {},
   "outputs": [],
   "source": [
    "\"\"\"with jsonlines.open(r\"C:\\Users\\hugol\\Documents\\Fac\\2022_2023\\TER\\TER_genearation_categorie\\unarXive-2020\\contexts\\arxiv-abstracts.jsonl\") as f:\n",
    "    # Lire chaque ligne du fichier\n",
    "    for obj in f:\n",
    "        # Vérifier si la ligne contient l'arxiv_id recherché (remplacez \"arxiv_id_recherche\" par l'arxiv_id recherché)\n",
    "        if obj['id'] == '1401.0316':\n",
    "            # Si la ligne contient l'arxiv_id recherché, l'afficher\n",
    "            print(obj)\n",
    "\"\"\""
   ]
  }
 ],
 "metadata": {
  "kernelspec": {
   "display_name": "Python 3",
   "language": "python",
   "name": "python3"
  },
  "language_info": {
   "codemirror_mode": {
    "name": "ipython",
    "version": 3
   },
   "file_extension": ".py",
   "mimetype": "text/x-python",
   "name": "python",
   "nbconvert_exporter": "python",
   "pygments_lexer": "ipython3",
   "version": "3.8.3"
  },
  "orig_nbformat": 4,
  "vscode": {
   "interpreter": {
    "hash": "570feb405e2e27c949193ac68f46852414290d515b0ba6e5d90d076ed2284471"
   }
  }
 },
 "nbformat": 4,
 "nbformat_minor": 2
}
